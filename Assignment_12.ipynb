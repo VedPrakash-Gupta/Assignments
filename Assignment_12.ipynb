{
 "cells": [
  {
   "cell_type": "code",
   "execution_count": null,
   "id": "37a29910",
   "metadata": {},
   "outputs": [],
   "source": [
    "1. In what modes should the PdfFileReader() and PdfFileWriter() File objects will be opened?\n",
    "\n",
    "Ans:- PdfFileReader() needs to be opened in read-binary mode by passing 'rb' as \n",
    "      the second argument to open(). Likewise, the File object passed to PyPDF2. PdfFileWriter() \n",
    "        needs to be opened in write-binary mode with 'wb'."
   ]
  },
  {
   "cell_type": "code",
   "execution_count": null,
   "id": "a845637c",
   "metadata": {},
   "outputs": [],
   "source": [
    "2. From a PdfFileReader object, how do you get a Page object for page 5?\n",
    "\n",
    "Ans:- You can get a Page object by calling the getPage() method ➋ on a PdfFileReader \n",
    "      object and passing it the page number of the page you're interested in—in our case, 0."
   ]
  },
  {
   "cell_type": "code",
   "execution_count": null,
   "id": "f2755a2a",
   "metadata": {},
   "outputs": [],
   "source": [
    "3. What PdfFileReader variable stores the number of pages in the PDF document?\n",
    "\n",
    "Ans:- The total number of pages in the document is stored in the numPages attribute of a PdfFileReader object "
   ]
  },
  {
   "cell_type": "code",
   "execution_count": null,
   "id": "11b0e7c3",
   "metadata": {},
   "outputs": [],
   "source": [
    "4. If a PdfFileReader object’s PDF is encrypted with the password swordfish, what must you do\n",
    "before you can obtain Page objects from it?\n",
    "\n",
    "Ans:- Call decrypt('swordfish')"
   ]
  },
  {
   "cell_type": "code",
   "execution_count": null,
   "id": "fe339a74",
   "metadata": {},
   "outputs": [],
   "source": [
    "5. What methods do you use to rotate a page?\n",
    "\n",
    "Ans:- Right-click the selected page or individual pages, and choose the \"Rotate Page\" option. \n",
    "      Once you select the \"Rotate Page\" option, the \"Rotate\" window pops up, allowing you to select \n",
    "      the orientation you would like to rotate the page, and you can also choose the page range that you would \n",
    "       like to perform this rotation on."
   ]
  },
  {
   "cell_type": "code",
   "execution_count": null,
   "id": "fd123d8c",
   "metadata": {},
   "outputs": [],
   "source": [
    "6. What is the difference between a Run object and a Paragraph object?\n",
    "\n",
    "Ans:- Each Paragraph object also has a runs attribute that is a list of Run objects. \n",
    "      Run objects also have a text attribute, containing just the text in that particular run. \n",
    "        Let's look at the text attributes in the second Paragraph object, 'A plain paragraph with some bold and some italic' ."
   ]
  },
  {
   "cell_type": "code",
   "execution_count": null,
   "id": "1f0ff37e",
   "metadata": {},
   "outputs": [],
   "source": [
    "7. How do you obtain a list of Paragraph objects for a Document object that’s stored in a variable\n",
    "named doc?\n",
    "\n",
    "Ans:- #!pip install python-docx\n",
    "      import docx\n",
    "      doc = docx.Document('abc.docx')\n",
    "      doc.paragraphs\n",
    "      #By using doc.paragraphs"
   ]
  },
  {
   "cell_type": "code",
   "execution_count": null,
   "id": "e62e4ce7",
   "metadata": {},
   "outputs": [],
   "source": [
    "8. What type of object has bold, underline, italic, strike, and outline variables?\n",
    "\n",
    "Ans:- A Run object has bold, underline,italic,strike and outline variables"
   ]
  },
  {
   "cell_type": "code",
   "execution_count": null,
   "id": "4b270dda",
   "metadata": {},
   "outputs": [],
   "source": [
    "9. What is the difference between False, True, and None for the bold variable?\n",
    "\n",
    "Ans:- Runs can be further styled using text attributes. Each attribute can be set to one of three values:\n",
    "      True (the attribute is always enabled, no matter what other styles are applied to the run),\n",
    "      False (the attribute is always disabled),\n",
    "      None (defaults to whatever the run’s style is set to)\n",
    "\n",
    "      True always makes the Run object bolded and False makes it always not bolded, no matter what the style’s bold setting is. None will make the Run object just use the style’s bold setting"
   ]
  },
  {
   "cell_type": "code",
   "execution_count": null,
   "id": "d6987db2",
   "metadata": {},
   "outputs": [],
   "source": [
    "10. How do you create a Document object for a new Word document?\n",
    "\n",
    "Ans:- By Calling the docx.Document() function."
   ]
  },
  {
   "cell_type": "code",
   "execution_count": null,
   "id": "5a901954",
   "metadata": {},
   "outputs": [],
   "source": [
    "11. How do you add a paragraph with the text 'Hello, there!'' to a Document object stored in a variable named doc?\n",
    "\n",
    "Ans:- import docx\n",
    "      doc = docx.Document()\n",
    "\n",
    "      doc.add_paragraph('Hello there!')\n",
    "      doc.save('hellothere.docx')"
   ]
  },
  {
   "cell_type": "code",
   "execution_count": null,
   "id": "8a9debbd",
   "metadata": {},
   "outputs": [],
   "source": [
    "12. What integers represent the levels of headings available in Word documents?\n",
    "\n",
    "Ans:- integer from 0 to 4\n",
    "      The arguments to add_heading() are a string of the heading text and an integer from 0 to 4. \n",
    "        The integer 0 makes the heading the Title style, which is used for the top of the document. \n",
    "        Integers 1 to 4 are for various heading levels, with 1 being the main heading and 4 the lowest subheading"
   ]
  }
 ],
 "metadata": {
  "kernelspec": {
   "display_name": "Python 3 (ipykernel)",
   "language": "python",
   "name": "python3"
  },
  "language_info": {
   "codemirror_mode": {
    "name": "ipython",
    "version": 3
   },
   "file_extension": ".py",
   "mimetype": "text/x-python",
   "name": "python",
   "nbconvert_exporter": "python",
   "pygments_lexer": "ipython3",
   "version": "3.9.12"
  }
 },
 "nbformat": 4,
 "nbformat_minor": 5
}
