{
 "cells": [
  {
   "cell_type": "code",
   "execution_count": null,
   "id": "f85abf63",
   "metadata": {},
   "outputs": [],
   "source": [
    "1. Why are functions advantageous to have in your programs?\n",
    "\n",
    "Ans:- Functions reduce the need for duplicate code. This makes programs shorter, easier to read, and easier to update.\n"
   ]
  },
  {
   "cell_type": "code",
   "execution_count": null,
   "id": "cebaf93f",
   "metadata": {},
   "outputs": [],
   "source": [
    "2. When does the code in a function run: when it's specified or when it's called?\n",
    "    \n",
    "Ans:- When a function is \"called\" the program \"leaves\" the current section of code and \n",
    "      begins to execute the first line inside the function.     "
   ]
  },
  {
   "cell_type": "code",
   "execution_count": null,
   "id": "ce2ea52c",
   "metadata": {},
   "outputs": [],
   "source": [
    "3. What statement creates a function?\n",
    "\n",
    "Ans:- To create a function, we must first declare it and give it a name, the same way we'd create any variable, \n",
    "        and then we follow it by a function definition: var sayHello = function() { }; We could put any code inside \n",
    "        that function - one statement, multiple statements - depends on what we want to do."
   ]
  },
  {
   "cell_type": "code",
   "execution_count": null,
   "id": "c83ea22b",
   "metadata": {},
   "outputs": [],
   "source": [
    "4. What is the difference between a function and a function call?\n",
    "\n",
    "Ans:- A function is a block of code that does a particular operation and returns a result.\n",
    "        It usually accepts inputs as parameters and returns a result. The parameters are not mandatory. \n",
    "        A function call is the code used to pass control to a function."
   ]
  },
  {
   "cell_type": "code",
   "execution_count": null,
   "id": "fd8c7caf",
   "metadata": {},
   "outputs": [],
   "source": [
    "5. How many global scopes are there in a Python program? How many local scopes?\n",
    "\n",
    "Ans:- There's only one global Python scope per program execution. \n",
    "        This scope remains in existence until the program terminates and all its names are forgotten.\n",
    "        When you use an unqualified name inside a function, Python searches three scopes—the local (L), \n",
    "        then the global (G), and then the built-in (B)—and stops at the first place the name is found.  "
   ]
  },
  {
   "cell_type": "code",
   "execution_count": null,
   "id": "dd964041",
   "metadata": {},
   "outputs": [],
   "source": [
    "6. What happens to variables in a local scope when the function call returns?\n",
    "\n",
    "Ans:- A local variable retains its value until the next time the function is called \n",
    "      A local variable becomes undefined after the function call completes \n",
    "        The local variable can be used outside the function any time after the function call completes."
   ]
  },
  {
   "cell_type": "code",
   "execution_count": null,
   "id": "b0854017",
   "metadata": {},
   "outputs": [],
   "source": [
    "7. What is the concept of a return value? Is it possible to have a return value in an expression?\n",
    "\n",
    "Ans:- In general, a function takes arguments (if any), performs some operations, and returns a value (or object). \n",
    "      The value that a function returns to the caller is generally known as the function's return value. \n",
    "      All Python functions have a return value, either explicit or implicit."
   ]
  },
  {
   "cell_type": "code",
   "execution_count": null,
   "id": "21df8907",
   "metadata": {},
   "outputs": [],
   "source": [
    "8. If a function does not have a return statement, what is the return value of a call to that function?\n",
    "\n",
    "Ans:- If a function doesn't specify a return value, it returns None ."
   ]
  },
  {
   "cell_type": "code",
   "execution_count": null,
   "id": "75dacc53",
   "metadata": {},
   "outputs": [],
   "source": [
    "9. How do you make a function variable refer to the global variable?\n",
    "\n",
    "Ans:- If you want to refer to a global variable in a function, \n",
    "        you can use the global keyword to declare which variables are global."
   ]
  },
  {
   "cell_type": "code",
   "execution_count": null,
   "id": "98ce4321",
   "metadata": {},
   "outputs": [],
   "source": [
    "10. What is the data type of None?\n",
    "\n",
    "Ans:- The None keyword is used to define a null value, or no value at all. \n",
    "      None is not the same as 0, False, or an empty string. None is a data type of \n",
    "        its own (NoneType) and only None can be None."
   ]
  },
  {
   "cell_type": "code",
   "execution_count": null,
   "id": "86d70193",
   "metadata": {},
   "outputs": [],
   "source": [
    "11. What does the sentence import areallyourpetsnamederic do?\n",
    "\n",
    "Ans:- That import statement imports a module named areallyourpetsnamederic."
   ]
  },
  {
   "cell_type": "code",
   "execution_count": null,
   "id": "2e2283e0",
   "metadata": {},
   "outputs": [],
   "source": [
    "12. If you had a bacon() feature in a spam module, what would you call it after importing spam?\n",
    "\n",
    "Ans:- This function can be called with spam. bacon()."
   ]
  },
  {
   "cell_type": "code",
   "execution_count": null,
   "id": "0b3b4065",
   "metadata": {},
   "outputs": [],
   "source": [
    "13. What can you do to save a programme from crashing if it encounters an error?\n",
    "\n",
    "Ans:- When it encounters an error, the control is passed to the except block, skipping the code in between. \n",
    "        As seen in the above code, we have moved our code inside a try and except statement. \n",
    "        Try running the program and it should throw an error message instead of crashing the program."
   ]
  },
  {
   "cell_type": "code",
   "execution_count": null,
   "id": "26df96ac",
   "metadata": {},
   "outputs": [],
   "source": [
    "14. What is the purpose of the try clause? What is the purpose of the except clause?\n",
    "\n",
    "Ans:- The try block is used to check some code for errors i.e the code inside \n",
    "        the try block will execute when there is no error in the program. \n",
    "        Whereas the code inside the except block will execute whenever \n",
    "        the program encounters some error in the preceding try block"
   ]
  },
  {
   "cell_type": "code",
   "execution_count": null,
   "id": "cc04b8be",
   "metadata": {},
   "outputs": [],
   "source": []
  },
  {
   "cell_type": "code",
   "execution_count": null,
   "id": "1d63cfe9",
   "metadata": {},
   "outputs": [],
   "source": []
  },
  {
   "cell_type": "code",
   "execution_count": null,
   "id": "fe308e5f",
   "metadata": {},
   "outputs": [],
   "source": []
  },
  {
   "cell_type": "code",
   "execution_count": null,
   "id": "1bec3f98",
   "metadata": {},
   "outputs": [],
   "source": []
  },
  {
   "cell_type": "code",
   "execution_count": null,
   "id": "bd9f61ad",
   "metadata": {},
   "outputs": [],
   "source": []
  }
 ],
 "metadata": {
  "kernelspec": {
   "display_name": "Python 3 (ipykernel)",
   "language": "python",
   "name": "python3"
  },
  "language_info": {
   "codemirror_mode": {
    "name": "ipython",
    "version": 3
   },
   "file_extension": ".py",
   "mimetype": "text/x-python",
   "name": "python",
   "nbconvert_exporter": "python",
   "pygments_lexer": "ipython3",
   "version": "3.9.12"
  }
 },
 "nbformat": 4,
 "nbformat_minor": 5
}
