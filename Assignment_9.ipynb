{
 "cells": [
  {
   "cell_type": "code",
   "execution_count": null,
   "id": "87125bb0",
   "metadata": {},
   "outputs": [],
   "source": [
    "1. To what does a relative path refer?\n",
    "\n",
    "Ans:- A relative path refers to a location that is relative to a current directory. \n",
    "        Relative paths make use of two special symbols, a dot (.) and a double-dot (..), \n",
    "        which translate into the current directory and the parent directory. Double dots are used \n",
    "        for moving up in the hierarchy."
   ]
  },
  {
   "cell_type": "code",
   "execution_count": null,
   "id": "3b4a5839",
   "metadata": {},
   "outputs": [],
   "source": [
    "2. What does an absolute path start with your operating system?\n",
    "\n",
    "Ans:- An absolute path is a path that contains the entire path to the file \n",
    "        or directory that you need to access. This path will begin at the home directory of your computer \n",
    "        and will end with the file or directory that you wish to access."
   ]
  },
  {
   "cell_type": "code",
   "execution_count": null,
   "id": "72e206c4",
   "metadata": {},
   "outputs": [],
   "source": [
    "3. What do the functions os.getcwd() and os.chdir() do?\n",
    "\n",
    "Ans:- Check and Set Your Working Directory Using OS\n",
    "    \n",
    "        getcwd() : CWD stands for Current Working Directory. This function allows you to see what your \n",
    "        current working directory is. \n",
    "        \n",
    "        chdir(\"path-to-dir\") : Short for CHange DIRectory, this function allows you to set the current working directory\n",
    "            to a path of your choice. "
   ]
  },
  {
   "cell_type": "code",
   "execution_count": null,
   "id": "f4d42322",
   "metadata": {},
   "outputs": [],
   "source": [
    "4. What are the . and .. folders?\n",
    "\n",
    "Ans:- . and .. are entries which are normally present in every directory. \n",
    "        Their meaning is not related to the working directory of a process (like shell) but to the directory the entry is in."
   ]
  },
  {
   "cell_type": "code",
   "execution_count": null,
   "id": "ec27f818",
   "metadata": {},
   "outputs": [],
   "source": [
    "5. In C:\\bacon\\eggs\\spam.txt, which part is the dir name, and which part is the base name?\n",
    "    \n",
    "Ans:-  C:\\bacon\\eggs is the dir name, while spam. txt is the base name. \n",
    "        An existing file opened in write mode is erased and completely overwritten.   "
   ]
  },
  {
   "cell_type": "code",
   "execution_count": null,
   "id": "60c83904",
   "metadata": {},
   "outputs": [],
   "source": [
    "6. What are the three “mode” arguments that can be passed to the open() function?\n",
    "\n",
    "Ans:- r: Opens the file in read-only mode. Starts reading from the beginning of the file and is \n",
    "            the default mode for the open() function.\n",
    "        rb: Opens the file as read-only in binary format and starts reading from the beginning of the file. \n",
    "            While binary format can be used for different purposes, it is usually used when dealing with \n",
    "            things like images, videos, etc.\n",
    "        r+: Opens a file for reading and writing, placing the pointer at the beginning of the file.\n",
    "        w: Opens in write-only mode. The pointer is placed at the beginning of the file and this will overwrite \n",
    "            any existing file with the same name. It will create a new file if one with the same name doesn't exist."
   ]
  },
  {
   "cell_type": "code",
   "execution_count": null,
   "id": "b387fd0f",
   "metadata": {},
   "outputs": [],
   "source": [
    "7. What happens if an existing file is opened in write mode?\n",
    "\n",
    "Ans:- To open a file in write mode, “w” is specified. When mode “w” is specified, \n",
    "      it creates an empty file for output operations. What if the file already exists? \n",
    "        If a file with the same name already exists, its contents are discarded and the file is treated as a new empty file."
   ]
  },
  {
   "cell_type": "code",
   "execution_count": null,
   "id": "c72083e8",
   "metadata": {},
   "outputs": [],
   "source": [
    "8. How do you tell the difference between read() and readlines()?\n",
    "\n",
    "Ans:- The only difference between the Read() and ReadLine() is that Console. \n",
    "      Read is used to read only single character from the standard output device, while Console. \n",
    "        ReadLine is used to read a line or string from the standard output device"
   ]
  },
  {
   "cell_type": "code",
   "execution_count": null,
   "id": "0cfe598d",
   "metadata": {},
   "outputs": [],
   "source": [
    "9. What data structure does a shelf value resemble?\n",
    "\n",
    "Ans:- What data structure does a shelf value resemble? A shelf value resembles a dictionary value; \n",
    "        it has keys and values, along with keys() and values() \n",
    "        methods that work similarly to the dictionary methods of the same names."
   ]
  },
  {
   "cell_type": "code",
   "execution_count": null,
   "id": "6f27c446",
   "metadata": {},
   "outputs": [],
   "source": []
  },
  {
   "cell_type": "code",
   "execution_count": null,
   "id": "116c7d5c",
   "metadata": {},
   "outputs": [],
   "source": []
  },
  {
   "cell_type": "code",
   "execution_count": null,
   "id": "ccc0c70c",
   "metadata": {},
   "outputs": [],
   "source": []
  },
  {
   "cell_type": "code",
   "execution_count": null,
   "id": "f25c8dab",
   "metadata": {},
   "outputs": [],
   "source": []
  },
  {
   "cell_type": "code",
   "execution_count": null,
   "id": "8bd2c85a",
   "metadata": {},
   "outputs": [],
   "source": []
  },
  {
   "cell_type": "code",
   "execution_count": null,
   "id": "bd422375",
   "metadata": {},
   "outputs": [],
   "source": []
  },
  {
   "cell_type": "code",
   "execution_count": null,
   "id": "709067be",
   "metadata": {},
   "outputs": [],
   "source": []
  },
  {
   "cell_type": "code",
   "execution_count": null,
   "id": "6bbc3ebc",
   "metadata": {},
   "outputs": [],
   "source": []
  }
 ],
 "metadata": {
  "kernelspec": {
   "display_name": "Python 3 (ipykernel)",
   "language": "python",
   "name": "python3"
  },
  "language_info": {
   "codemirror_mode": {
    "name": "ipython",
    "version": 3
   },
   "file_extension": ".py",
   "mimetype": "text/x-python",
   "name": "python",
   "nbconvert_exporter": "python",
   "pygments_lexer": "ipython3",
   "version": "3.9.12"
  }
 },
 "nbformat": 4,
 "nbformat_minor": 5
}
