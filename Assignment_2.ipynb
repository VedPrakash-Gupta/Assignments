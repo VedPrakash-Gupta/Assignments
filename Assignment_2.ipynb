{
 "cells": [
  {
   "cell_type": "code",
   "execution_count": null,
   "id": "66e3ebee",
   "metadata": {},
   "outputs": [],
   "source": [
    "1.What are the two values of the Boolean data type? How do you write them?\n",
    "\n",
    "Ans:- A variable of the primitive data type boolean can have two values:\n",
    "        true and false (Boolean literals). or off. Boolean expressions use relational and logical operators. \n",
    "        The result of a Boolean expression is either true or false."
   ]
  },
  {
   "cell_type": "code",
   "execution_count": null,
   "id": "1f4b28a1",
   "metadata": {},
   "outputs": [],
   "source": [
    "2. What are the three different types of Boolean operators?\n",
    "\n",
    "Ans:- There are three basic Boolean search commands: AND, OR and NOT."
   ]
  },
  {
   "cell_type": "code",
   "execution_count": null,
   "id": "e7d7d2f0",
   "metadata": {},
   "outputs": [],
   "source": [
    "3. Make a list of each Boolean operator's truth tables (i.e. every possible combination of Boolean\n",
    "   values for the operator and what it evaluate ).\n",
    " \n",
    "Ans:- \n",
    "    \n",
    " 1        2     NOTX    XANDY   XORY\n",
    "(X)      (Y)    (~X)   (X&&Y)  (X||Y)\n",
    "false\tfalse\ttrue\tfalse\tfalse\n",
    "false\ttrue\ttrue\tfalse\ttrue\n",
    "true\tfalse\tfalse\tfalse\ttrue\n",
    "true\ttrue\tfalse\ttrue\ttrue\n",
    "\n"
   ]
  },
  {
   "cell_type": "code",
   "execution_count": null,
   "id": "1a6190c2",
   "metadata": {},
   "outputs": [],
   "source": [
    "4.  What are the values of the following expressions?\n",
    "(5 > 4) and (3 == 5)\n",
    "not (5 > 4)\n",
    "(5 > 4) or (3 == 5)\n",
    "not ((5 > 4) or (3 == 5))\n",
    "(True and True) and (True == False)\n",
    "(not False) or (not True)"
   ]
  },
  {
   "cell_type": "code",
   "execution_count": 1,
   "id": "3c1295f7",
   "metadata": {},
   "outputs": [
    {
     "data": {
      "text/plain": [
       "True"
      ]
     },
     "execution_count": 1,
     "metadata": {},
     "output_type": "execute_result"
    }
   ],
   "source": [
    "(5 > 4) and (3 == 5)\n",
    "not (5 > 4)\n",
    "(5 > 4) or (3 == 5)\n",
    "not ((5 > 4) or (3 == 5))\n",
    "(True and True) and (True == False)\n",
    "(not False) or (not True)"
   ]
  },
  {
   "cell_type": "code",
   "execution_count": null,
   "id": "09af98e3",
   "metadata": {},
   "outputs": [],
   "source": [
    "Ans:- True"
   ]
  },
  {
   "cell_type": "code",
   "execution_count": null,
   "id": "59404b0c",
   "metadata": {},
   "outputs": [],
   "source": [
    "5. What are the six comparison operators?\n",
    "\n",
    "Ans:- Python has six comparison operators: less than (<), less than or equal to (<=), \n",
    "        greater than (>), greater than or equal to (>=), equal to (==), and not equal to (!=)."
   ]
  },
  {
   "cell_type": "code",
   "execution_count": null,
   "id": "dad83ed4",
   "metadata": {},
   "outputs": [],
   "source": [
    "6. How do you tell the difference between the equal to and assignment operators?Describe a\n",
    "condition and when you would use one.\n",
    "\n",
    "Ans:- The “=” is an assignment operator is used to assign the value on the right to the variable on the left.\n",
    "        Ex:-\n",
    "      a = 10;\n",
    "      b = 20;\n",
    "      ch = 'y';\n",
    "    \n",
    "      The ‘==’ operator checks whether the two given operands are equal or not. If so, it returns true. \n",
    "      Otherwise it returns false.\n",
    "         Ex:-\n",
    "      ==5\n",
    "      This will return true."
   ]
  },
  {
   "cell_type": "code",
   "execution_count": null,
   "id": "f837d492",
   "metadata": {},
   "outputs": [],
   "source": [
    "7. Identify the three blocks in this code:\n",
    "spam = 0\n",
    "if spam == 10:\n",
    "print('eggs')\n",
    "if spam >5:\n",
    "print('bacon')\n",
    "else:\n",
    "print('ham')\n",
    "print('spam')\n",
    "print('spam')\n",
    "\n",
    "Ans:- "
   ]
  },
  {
   "cell_type": "code",
   "execution_count": 3,
   "id": "0d9a924a",
   "metadata": {},
   "outputs": [
    {
     "name": "stdout",
     "output_type": "stream",
     "text": [
      "ham\n",
      "spam\n",
      "spam\n"
     ]
    }
   ],
   "source": [
    "spam = 0\n",
    "if spam == 10:\n",
    "    print('eggs')\n",
    "if spam >5:\n",
    "    print('bacon')\n",
    "else:\n",
    "    print('ham')\n",
    "    print('spam')\n",
    "    print('spam')"
   ]
  },
  {
   "cell_type": "code",
   "execution_count": null,
   "id": "fcf241dc",
   "metadata": {},
   "outputs": [],
   "source": [
    "8. Write code that prints Hello if 1 is stored in spam, prints Howdy if 2 is stored in spam, and prints\n",
    "Greetings! if anything else is stored in spam.\n",
    "\n",
    "Ans:- "
   ]
  },
  {
   "cell_type": "code",
   "execution_count": 14,
   "id": "40fc7601",
   "metadata": {},
   "outputs": [
    {
     "name": "stdout",
     "output_type": "stream",
     "text": [
      "1\n",
      "Greetings!\n"
     ]
    }
   ],
   "source": [
    "spam = input()\n",
    "\n",
    "if spam == 1:\n",
    "    print('Hello')\n",
    "elif spam == 2:\n",
    "    print('Howdy') \n",
    "else:\n",
    "    print('Greetings!')"
   ]
  },
  {
   "cell_type": "code",
   "execution_count": null,
   "id": "49735cf4",
   "metadata": {},
   "outputs": [],
   "source": [
    "9.If your programme is stuck in an endless loop, what keys you’ll press?\n",
    "\n",
    "Ans:- ctrl + c"
   ]
  },
  {
   "cell_type": "code",
   "execution_count": null,
   "id": "0ede3a42",
   "metadata": {},
   "outputs": [],
   "source": [
    "10. How can you tell the difference between break and continue?\n",
    "\n",
    "Ans:- The primary difference between break and continue statement that \n",
    "    the break statement leads to an immediate exit of the innermost switch or enclosing loop. \n",
    "    On the other hand, the continue statement begins the next iteration of the while, enclosing for, or do loop "
   ]
  },
  {
   "cell_type": "code",
   "execution_count": null,
   "id": "553b3870",
   "metadata": {},
   "outputs": [],
   "source": [
    "11. In a for loop, what is the difference between range(10), range(0, 10), and range(0, 10, 1)?\n",
    "\n",
    "Ans:- # As per the output these in no diffrence but when it's comes to the function i have explained below."
   ]
  },
  {
   "cell_type": "code",
   "execution_count": 15,
   "id": "f99aba59",
   "metadata": {},
   "outputs": [
    {
     "data": {
      "text/plain": [
       "range(0, 10)"
      ]
     },
     "execution_count": 15,
     "metadata": {},
     "output_type": "execute_result"
    }
   ],
   "source": [
    "range(10) # range(stop)"
   ]
  },
  {
   "cell_type": "code",
   "execution_count": 16,
   "id": "095c9f97",
   "metadata": {},
   "outputs": [
    {
     "data": {
      "text/plain": [
       "range(0, 10)"
      ]
     },
     "execution_count": 16,
     "metadata": {},
     "output_type": "execute_result"
    }
   ],
   "source": [
    "range(0,10) #range(start,stop)"
   ]
  },
  {
   "cell_type": "code",
   "execution_count": 17,
   "id": "ab79157e",
   "metadata": {},
   "outputs": [
    {
     "data": {
      "text/plain": [
       "range(0, 10)"
      ]
     },
     "execution_count": 17,
     "metadata": {},
     "output_type": "execute_result"
    }
   ],
   "source": [
    "range(0,10,1) #range(start,stop,step)"
   ]
  },
  {
   "cell_type": "code",
   "execution_count": null,
   "id": "2bf5b627",
   "metadata": {},
   "outputs": [],
   "source": [
    "12. Write a short program that prints the numbers 1 to 10 using a for loop. Then write an equivalent\n",
    "program that prints the numbers 1 to 10 using a while loop.\n",
    "\n",
    "Ans:- "
   ]
  },
  {
   "cell_type": "code",
   "execution_count": 19,
   "id": "76df5565",
   "metadata": {},
   "outputs": [
    {
     "name": "stdout",
     "output_type": "stream",
     "text": [
      "1\n",
      "2\n",
      "3\n",
      "4\n",
      "5\n",
      "6\n",
      "7\n",
      "8\n",
      "9\n",
      "10\n"
     ]
    }
   ],
   "source": [
    "for i in range(1,11):\n",
    "    print(i)"
   ]
  },
  {
   "cell_type": "code",
   "execution_count": 22,
   "id": "4359b227",
   "metadata": {},
   "outputs": [
    {
     "name": "stdout",
     "output_type": "stream",
     "text": [
      "1\n",
      "2\n",
      "3\n",
      "4\n",
      "5\n",
      "6\n",
      "7\n",
      "8\n",
      "9\n",
      "10\n"
     ]
    }
   ],
   "source": [
    "i=1\n",
    "while(i<=10):\n",
    "    print(i)\n",
    "    i+=1"
   ]
  },
  {
   "cell_type": "code",
   "execution_count": null,
   "id": "92c4e453",
   "metadata": {},
   "outputs": [],
   "source": [
    "13. If you had a function named bacon() inside a module named spam, how would you call it after\n",
    "importing spam?\n",
    "\n",
    "Ans:- This function can be called with spam.bacon()."
   ]
  }
 ],
 "metadata": {
  "kernelspec": {
   "display_name": "Python 3 (ipykernel)",
   "language": "python",
   "name": "python3"
  },
  "language_info": {
   "codemirror_mode": {
    "name": "ipython",
    "version": 3
   },
   "file_extension": ".py",
   "mimetype": "text/x-python",
   "name": "python",
   "nbconvert_exporter": "python",
   "pygments_lexer": "ipython3",
   "version": "3.9.12"
  }
 },
 "nbformat": 4,
 "nbformat_minor": 5
}
